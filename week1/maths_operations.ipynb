{
 "cells": [
  {
   "cell_type": "markdown",
   "id": "japanese-adult",
   "metadata": {},
   "source": [
    "In this tutorial we will go through some simple maths operations that will be vital to your python programming.\n",
    "You can use python to do everything that you use a standard calculator, plus so much more. So let us start with some simple standard operations adding-subtracting-multiplying and dividing. For these we use + - * and / respectively. Have a go at running the snippets of codes below to get the hang of it (remember click on the box so it is highlighted and hit the run button above). Change the numbers and try running again - just remember to start each line flush to the left hand side.\n"
   ]
  },
  {
   "cell_type": "code",
   "execution_count": null,
   "id": "electric-generic",
   "metadata": {},
   "outputs": [],
   "source": [
    "4+3"
   ]
  },
  {
   "cell_type": "code",
   "execution_count": null,
   "id": "acute-suicide",
   "metadata": {},
   "outputs": [],
   "source": [
    "5-2"
   ]
  },
  {
   "cell_type": "code",
   "execution_count": null,
   "id": "premium-welsh",
   "metadata": {},
   "outputs": [],
   "source": [
    "5*5"
   ]
  },
  {
   "cell_type": "code",
   "execution_count": null,
   "id": "annual-victor",
   "metadata": {},
   "outputs": [],
   "source": [
    "25/3"
   ]
  },
  {
   "cell_type": "markdown",
   "id": "lesser-april",
   "metadata": {},
   "source": [
    "now you have the hang of this we can do some more involved operations using multiple operations at once. Using brackets () like are used to using pen & paper can also be used in python. Try the lines below to see how it works, change the numbers and then re-run!\n"
   ]
  },
  {
   "cell_type": "code",
   "execution_count": null,
   "id": "express-region",
   "metadata": {},
   "outputs": [],
   "source": [
    "2*(4+4)"
   ]
  },
  {
   "cell_type": "code",
   "execution_count": null,
   "id": "tropical-picnic",
   "metadata": {},
   "outputs": [],
   "source": [
    "(5+5)/5"
   ]
  },
  {
   "cell_type": "code",
   "execution_count": null,
   "id": "white-contrary",
   "metadata": {},
   "outputs": [],
   "source": [
    "(5+5)/5 + 2*(4+4)"
   ]
  },
  {
   "cell_type": "markdown",
   "id": "logical-reminder",
   "metadata": {},
   "source": [
    "Now it is your turn. If I have 10 bags, each containing 5 red balls and 3 green balls, can you write an expression that includes brackets () to calculate the total number of balls I have?\n"
   ]
  },
  {
   "cell_type": "code",
   "execution_count": null,
   "id": "white-recovery",
   "metadata": {},
   "outputs": [],
   "source": []
  },
  {
   "cell_type": "markdown",
   "id": "hollow-aviation",
   "metadata": {},
   "source": [
    "Other important operations includes powers, and for this we use ** notation. So, for example, the square of the number 4 is written as $x=y$"
   ]
  },
  {
   "cell_type": "code",
   "execution_count": null,
   "id": "fifty-hospital",
   "metadata": {},
   "outputs": [],
   "source": [
    "4**2"
   ]
  },
  {
   "cell_type": "markdown",
   "id": "normal-oliver",
   "metadata": {},
   "source": [
    "and we can use this to calculate square roots - remembering that the root is a power to the half! so root 2 is:"
   ]
  },
  {
   "cell_type": "code",
   "execution_count": null,
   "id": "distant-diameter",
   "metadata": {},
   "outputs": [],
   "source": [
    "2**0.5"
   ]
  },
  {
   "cell_type": "markdown",
   "id": "provincial-adolescent",
   "metadata": {},
   "source": [
    "Your go, can you calculate the lenghts of the side of a square with area 10cm^2\n"
   ]
  },
  {
   "cell_type": "code",
   "execution_count": null,
   "id": "rolled-rhythm",
   "metadata": {},
   "outputs": [],
   "source": []
  }
 ],
 "metadata": {
  "kernelspec": {
   "display_name": "Python 3",
   "language": "python",
   "name": "python3"
  },
  "language_info": {
   "codemirror_mode": {
    "name": "ipython",
    "version": 3
   },
   "file_extension": ".py",
   "mimetype": "text/x-python",
   "name": "python",
   "nbconvert_exporter": "python",
   "pygments_lexer": "ipython3",
   "version": "3.8.6"
  }
 },
 "nbformat": 4,
 "nbformat_minor": 5
}
