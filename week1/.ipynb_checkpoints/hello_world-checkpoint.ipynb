{
 "cells": [
  {
   "cell_type": "markdown",
   "id": "connected-package",
   "metadata": {},
   "source": [
    "Hello everyone and welcome to programming!\n",
    "\n",
    "If this is your first experience in coding then welcome to a fun world using a powerful programming tool called python!\n",
    "\n",
    "It is easy to get up and running with simple things and we will start with some basic printing to screen. And keeping with tradition we will start with Hello World.\n",
    "\n",
    "to print we use the \"print()\" command where, if we are printing a message, we just put the message inside quote marks '  ' and place this inside the (). So to print hello world we use the following bit of code:\n",
    "\n"
   ]
  },
  {
   "cell_type": "code",
   "execution_count": null,
   "id": "nutritional-account",
   "metadata": {},
   "outputs": [],
   "source": [
    "print('hello world')"
   ]
  },
  {
   "cell_type": "markdown",
   "id": "charitable-semiconductor",
   "metadata": {},
   "source": [
    "And to run the code, first click the box containg the code, then hit the play the arrow at the top of this box. You should see the hello world printed below it.\n",
    "\n",
    "Now you can change the message in the above code and press play again, give it a try. You can also write multiple messages by starting a new line and using the print statent again. For example:\n"
   ]
  },
  {
   "cell_type": "code",
   "execution_count": null,
   "id": "injured-malawi",
   "metadata": {},
   "outputs": [],
   "source": [
    "print('hello world')\n",
    "print('my name is Andrew')"
   ]
  },
  {
   "cell_type": "markdown",
   "id": "verbal-wayne",
   "metadata": {},
   "source": [
    "Now there is one first thing to please note when programming in python. When writing your code you need to start the message flush to the left hand side. If you have a space (an indent) this means something specific to python. We will get to this shortly, but for now if you have an indent in the code it will crash. So something like this will throw up errors because the second line does not start from the left side.\n"
   ]
  },
  {
   "cell_type": "code",
   "execution_count": null,
   "id": "interstate-french",
   "metadata": {},
   "outputs": [],
   "source": [
    "print('hello world')\n",
    "  print('my name is Andrew')"
   ]
  },
  {
   "cell_type": "markdown",
   "id": "wanted-invitation",
   "metadata": {},
   "source": [
    "go on, give it a try and see\n",
    "\n",
    "Anyway, your turn, can you write  a nice message printed to screen."
   ]
  },
  {
   "cell_type": "code",
   "execution_count": null,
   "id": "varied-actor",
   "metadata": {},
   "outputs": [],
   "source": []
  }
 ],
 "metadata": {
  "kernelspec": {
   "display_name": "Python 3",
   "language": "python",
   "name": "python3"
  },
  "language_info": {
   "codemirror_mode": {
    "name": "ipython",
    "version": 3
   },
   "file_extension": ".py",
   "mimetype": "text/x-python",
   "name": "python",
   "nbconvert_exporter": "python",
   "pygments_lexer": "ipython3",
   "version": "3.8.6"
  }
 },
 "nbformat": 4,
 "nbformat_minor": 5
}
